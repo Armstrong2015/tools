{
 "cells": [
  {
   "cell_type": "markdown",
   "metadata": {},
   "source": [
    "# 预处理"
   ]
  },
  {
   "cell_type": "code",
   "execution_count": 3,
   "metadata": {},
   "outputs": [
    {
     "name": "stdout",
     "output_type": "stream",
     "text": [
      "Using matplotlib backend: Qt5Agg\n",
      "Populating the interactive namespace from numpy and matplotlib\n"
     ]
    }
   ],
   "source": [
    "import string\n",
    "import nltk\n",
    "%pylab\n",
    "%matplotlib inline\n",
    "import seaborn as sns\n",
    "import pandas as pd\n",
    "sns.set()"
   ]
  },
  {
   "cell_type": "code",
   "execution_count": 43,
   "metadata": {},
   "outputs": [
    {
     "data": {
      "text/html": [
       "<div>\n",
       "<style scoped>\n",
       "    .dataframe tbody tr th:only-of-type {\n",
       "        vertical-align: middle;\n",
       "    }\n",
       "\n",
       "    .dataframe tbody tr th {\n",
       "        vertical-align: top;\n",
       "    }\n",
       "\n",
       "    .dataframe thead th {\n",
       "        text-align: right;\n",
       "    }\n",
       "</style>\n",
       "<table border=\"1\" class=\"dataframe\">\n",
       "  <thead>\n",
       "    <tr style=\"text-align: right;\">\n",
       "      <th></th>\n",
       "      <th>marketplace</th>\n",
       "      <th>customer_id</th>\n",
       "      <th>review_id</th>\n",
       "      <th>product_id</th>\n",
       "      <th>product_parent</th>\n",
       "      <th>product_title</th>\n",
       "      <th>product_category</th>\n",
       "      <th>star_rating</th>\n",
       "      <th>helpful_votes</th>\n",
       "      <th>total_votes</th>\n",
       "      <th>vine</th>\n",
       "      <th>verified_purchase</th>\n",
       "      <th>review_headline</th>\n",
       "      <th>review_body</th>\n",
       "      <th>review_date</th>\n",
       "    </tr>\n",
       "  </thead>\n",
       "  <tbody>\n",
       "    <tr>\n",
       "      <td>0</td>\n",
       "      <td>US</td>\n",
       "      <td>34678741</td>\n",
       "      <td>R9T1FE2ZX2X04</td>\n",
       "      <td>B003V264WW</td>\n",
       "      <td>732252283</td>\n",
       "      <td>remington ac2015 t|studio salon collection pea...</td>\n",
       "      <td>Beauty</td>\n",
       "      <td>5</td>\n",
       "      <td>0</td>\n",
       "      <td>0</td>\n",
       "      <td>N</td>\n",
       "      <td>Y</td>\n",
       "      <td>Works great</td>\n",
       "      <td>Works great!</td>\n",
       "      <td>8/31/2015</td>\n",
       "    </tr>\n",
       "    <tr>\n",
       "      <td>1</td>\n",
       "      <td>US</td>\n",
       "      <td>11599505</td>\n",
       "      <td>RE36JAD5V53PO</td>\n",
       "      <td>B0009XH6V4</td>\n",
       "      <td>670161917</td>\n",
       "      <td>andis micro turbo hair dryer</td>\n",
       "      <td>Beauty</td>\n",
       "      <td>4</td>\n",
       "      <td>0</td>\n",
       "      <td>0</td>\n",
       "      <td>N</td>\n",
       "      <td>Y</td>\n",
       "      <td>I love travel blow dryers because they are eas...</td>\n",
       "      <td>This dries my hair faster that bigger, more po...</td>\n",
       "      <td>8/31/2015</td>\n",
       "    </tr>\n",
       "    <tr>\n",
       "      <td>2</td>\n",
       "      <td>US</td>\n",
       "      <td>2282190</td>\n",
       "      <td>RIDHM8B7SCCV3</td>\n",
       "      <td>B0007NZPY6</td>\n",
       "      <td>16483457</td>\n",
       "      <td>conair pro hair dryer</td>\n",
       "      <td>Beauty</td>\n",
       "      <td>5</td>\n",
       "      <td>0</td>\n",
       "      <td>1</td>\n",
       "      <td>N</td>\n",
       "      <td>Y</td>\n",
       "      <td>Five Stars</td>\n",
       "      <td>Love this dryer!</td>\n",
       "      <td>8/31/2015</td>\n",
       "    </tr>\n",
       "    <tr>\n",
       "      <td>3</td>\n",
       "      <td>US</td>\n",
       "      <td>43669858</td>\n",
       "      <td>R14QGWPCHU9LSE</td>\n",
       "      <td>B00BB8ZIW0</td>\n",
       "      <td>253917972</td>\n",
       "      <td>remington silk ceramic professional hair dryer</td>\n",
       "      <td>Beauty</td>\n",
       "      <td>5</td>\n",
       "      <td>0</td>\n",
       "      <td>0</td>\n",
       "      <td>N</td>\n",
       "      <td>Y</td>\n",
       "      <td>Five Stars</td>\n",
       "      <td>styling hair in style</td>\n",
       "      <td>8/31/2015</td>\n",
       "    </tr>\n",
       "    <tr>\n",
       "      <td>4</td>\n",
       "      <td>US</td>\n",
       "      <td>107098</td>\n",
       "      <td>R35BHQJHXXJD59</td>\n",
       "      <td>B003V264WW</td>\n",
       "      <td>732252283</td>\n",
       "      <td>remington ac2015 t|studio salon collection pea...</td>\n",
       "      <td>Beauty</td>\n",
       "      <td>4</td>\n",
       "      <td>0</td>\n",
       "      <td>0</td>\n",
       "      <td>N</td>\n",
       "      <td>N</td>\n",
       "      <td>I think's great. The cord length is perfect</td>\n",
       "      <td>I just got this last week. I think's great. Th...</td>\n",
       "      <td>8/31/2015</td>\n",
       "    </tr>\n",
       "  </tbody>\n",
       "</table>\n",
       "</div>"
      ],
      "text/plain": [
       "  marketplace  customer_id       review_id  product_id  product_parent  \\\n",
       "0          US     34678741   R9T1FE2ZX2X04  B003V264WW       732252283   \n",
       "1          US     11599505   RE36JAD5V53PO  B0009XH6V4       670161917   \n",
       "2          US      2282190   RIDHM8B7SCCV3  B0007NZPY6        16483457   \n",
       "3          US     43669858  R14QGWPCHU9LSE  B00BB8ZIW0       253917972   \n",
       "4          US       107098  R35BHQJHXXJD59  B003V264WW       732252283   \n",
       "\n",
       "                                       product_title product_category  \\\n",
       "0  remington ac2015 t|studio salon collection pea...           Beauty   \n",
       "1                       andis micro turbo hair dryer           Beauty   \n",
       "2                              conair pro hair dryer           Beauty   \n",
       "3     remington silk ceramic professional hair dryer           Beauty   \n",
       "4  remington ac2015 t|studio salon collection pea...           Beauty   \n",
       "\n",
       "   star_rating  helpful_votes  total_votes vine verified_purchase  \\\n",
       "0            5              0            0    N                 Y   \n",
       "1            4              0            0    N                 Y   \n",
       "2            5              0            1    N                 Y   \n",
       "3            5              0            0    N                 Y   \n",
       "4            4              0            0    N                 N   \n",
       "\n",
       "                                     review_headline  \\\n",
       "0                                        Works great   \n",
       "1  I love travel blow dryers because they are eas...   \n",
       "2                                         Five Stars   \n",
       "3                                         Five Stars   \n",
       "4        I think's great. The cord length is perfect   \n",
       "\n",
       "                                         review_body review_date  \n",
       "0                                       Works great!   8/31/2015  \n",
       "1  This dries my hair faster that bigger, more po...   8/31/2015  \n",
       "2                                   Love this dryer!   8/31/2015  \n",
       "3                              styling hair in style   8/31/2015  \n",
       "4  I just got this last week. I think's great. Th...   8/31/2015  "
      ]
     },
     "execution_count": 43,
     "metadata": {},
     "output_type": "execute_result"
    }
   ],
   "source": [
    "df = pd.read_csv(\"D:/anydata/data/hair_dryer.tsv\", sep='\\t') # 读取tsv格式数据\n",
    "df.head()#显示前5行"
   ]
  },
  {
   "cell_type": "code",
   "execution_count": 50,
   "metadata": {},
   "outputs": [],
   "source": [
    "df.review_date = pd.to_datetime(df.review_date)"
   ]
  },
  {
   "cell_type": "code",
   "execution_count": 51,
   "metadata": {},
   "outputs": [],
   "source": [
    "df.sort_values(\"review_date\",inplace=True)"
   ]
  },
  {
   "cell_type": "code",
   "execution_count": 57,
   "metadata": {},
   "outputs": [
    {
     "data": {
      "text/plain": [
       "<matplotlib.axes._subplots.AxesSubplot at 0x1682d284708>"
      ]
     },
     "execution_count": 57,
     "metadata": {},
     "output_type": "execute_result"
    },
    {
     "data": {
      "image/png": "[encoded data removed]",
      "text/plain": [
       "<Figure size 720x360 with 1 Axes>"
      ]
     },
     "metadata": {},
     "output_type": "display_data"
    }
   ],
   "source": [
    "df['review_year'] = df.review_date = pd.to_datetime(df.review_date)\n",
    "df.sort_values(\"review_year\",inplace=True)\n",
    "# 销量\n",
    "plt.figure(figsize=(10,5))\n",
    "sns.countplot(x=\"review_year\", data=df)"
   ]
  },
  {
   "cell_type": "code",
   "execution_count": 52,
   "metadata": {},
   "outputs": [
    {
     "data": {
      "text/html": [
       "<div>\n",
       "<style scoped>\n",
       "    .dataframe tbody tr th:only-of-type {\n",
       "        vertical-align: middle;\n",
       "    }\n",
       "\n",
       "    .dataframe tbody tr th {\n",
       "        vertical-align: top;\n",
       "    }\n",
       "\n",
       "    .dataframe thead th {\n",
       "        text-align: right;\n",
       "    }\n",
       "</style>\n",
       "<table border=\"1\" class=\"dataframe\">\n",
       "  <thead>\n",
       "    <tr style=\"text-align: right;\">\n",
       "      <th></th>\n",
       "      <th>marketplace</th>\n",
       "      <th>customer_id</th>\n",
       "      <th>review_id</th>\n",
       "      <th>product_id</th>\n",
       "      <th>product_parent</th>\n",
       "      <th>product_title</th>\n",
       "      <th>product_category</th>\n",
       "      <th>star_rating</th>\n",
       "      <th>helpful_votes</th>\n",
       "      <th>total_votes</th>\n",
       "      <th>vine</th>\n",
       "      <th>verified_purchase</th>\n",
       "      <th>review_headline</th>\n",
       "      <th>review_body</th>\n",
       "      <th>review_date</th>\n",
       "    </tr>\n",
       "  </thead>\n",
       "  <tbody>\n",
       "    <tr>\n",
       "      <td>11469</td>\n",
       "      <td>US</td>\n",
       "      <td>43740490</td>\n",
       "      <td>R2XM83JYE2KDE2</td>\n",
       "      <td>B00005O0MZ</td>\n",
       "      <td>694290590</td>\n",
       "      <td>conair corp pers care 146np conair ionic condi...</td>\n",
       "      <td>Beauty</td>\n",
       "      <td>3</td>\n",
       "      <td>320</td>\n",
       "      <td>332</td>\n",
       "      <td>N</td>\n",
       "      <td>Y</td>\n",
       "      <td>Some pluses, some minuses</td>\n",
       "      <td>This is my only experience with an ionic hair ...</td>\n",
       "      <td>2002-03-02</td>\n",
       "    </tr>\n",
       "    <tr>\n",
       "      <td>11468</td>\n",
       "      <td>US</td>\n",
       "      <td>38947355</td>\n",
       "      <td>R3JMGN42OJCL97</td>\n",
       "      <td>B00005O0MZ</td>\n",
       "      <td>694290590</td>\n",
       "      <td>conair corp pers care 146np conair ionic condi...</td>\n",
       "      <td>Beauty</td>\n",
       "      <td>5</td>\n",
       "      <td>78</td>\n",
       "      <td>87</td>\n",
       "      <td>N</td>\n",
       "      <td>N</td>\n",
       "      <td>Excellent for fine/limp hair</td>\n",
       "      <td>This hairdryer far exceeded my expection for&lt;B...</td>\n",
       "      <td>2002-04-20</td>\n",
       "    </tr>\n",
       "    <tr>\n",
       "      <td>11467</td>\n",
       "      <td>US</td>\n",
       "      <td>37733836</td>\n",
       "      <td>R3GO6L5PWBS0IW</td>\n",
       "      <td>B00005O0MZ</td>\n",
       "      <td>694290590</td>\n",
       "      <td>conair corp pers care 146np conair ionic condi...</td>\n",
       "      <td>Beauty</td>\n",
       "      <td>5</td>\n",
       "      <td>4</td>\n",
       "      <td>4</td>\n",
       "      <td>N</td>\n",
       "      <td>Y</td>\n",
       "      <td>The best dryer!!!</td>\n",
       "      <td>I love this dryer not only is it QUIET, it rea...</td>\n",
       "      <td>2002-07-13</td>\n",
       "    </tr>\n",
       "    <tr>\n",
       "      <td>11466</td>\n",
       "      <td>US</td>\n",
       "      <td>43977044</td>\n",
       "      <td>R2JQPUYU65C4QD</td>\n",
       "      <td>B00005O0MZ</td>\n",
       "      <td>694290590</td>\n",
       "      <td>conair corp pers care 146np conair ionic condi...</td>\n",
       "      <td>Beauty</td>\n",
       "      <td>1</td>\n",
       "      <td>26</td>\n",
       "      <td>32</td>\n",
       "      <td>N</td>\n",
       "      <td>N</td>\n",
       "      <td>Disappointment with dryer</td>\n",
       "      <td>I purchased it because it was supposed to be q...</td>\n",
       "      <td>2002-08-13</td>\n",
       "    </tr>\n",
       "    <tr>\n",
       "      <td>11465</td>\n",
       "      <td>US</td>\n",
       "      <td>35599734</td>\n",
       "      <td>R2O50YNP83CG34</td>\n",
       "      <td>B000065DJY</td>\n",
       "      <td>919751065</td>\n",
       "      <td>revlon 1875w volumizing hair dryer</td>\n",
       "      <td>Beauty</td>\n",
       "      <td>5</td>\n",
       "      <td>14</td>\n",
       "      <td>18</td>\n",
       "      <td>N</td>\n",
       "      <td>N</td>\n",
       "      <td>great hair!</td>\n",
       "      <td>I just purchased this dryer, and I really like...</td>\n",
       "      <td>2002-08-21</td>\n",
       "    </tr>\n",
       "  </tbody>\n",
       "</table>\n",
       "</div>"
      ],
      "text/plain": [
       "      marketplace  customer_id       review_id  product_id  product_parent  \\\n",
       "11469          US     43740490  R2XM83JYE2KDE2  B00005O0MZ       694290590   \n",
       "11468          US     38947355  R3JMGN42OJCL97  B00005O0MZ       694290590   \n",
       "11467          US     37733836  R3GO6L5PWBS0IW  B00005O0MZ       694290590   \n",
       "11466          US     43977044  R2JQPUYU65C4QD  B00005O0MZ       694290590   \n",
       "11465          US     35599734  R2O50YNP83CG34  B000065DJY       919751065   \n",
       "\n",
       "                                           product_title product_category  \\\n",
       "11469  conair corp pers care 146np conair ionic condi...           Beauty   \n",
       "11468  conair corp pers care 146np conair ionic condi...           Beauty   \n",
       "11467  conair corp pers care 146np conair ionic condi...           Beauty   \n",
       "11466  conair corp pers care 146np conair ionic condi...           Beauty   \n",
       "11465                 revlon 1875w volumizing hair dryer           Beauty   \n",
       "\n",
       "       star_rating  helpful_votes  total_votes vine verified_purchase  \\\n",
       "11469            3            320          332    N                 Y   \n",
       "11468            5             78           87    N                 N   \n",
       "11467            5              4            4    N                 Y   \n",
       "11466            1             26           32    N                 N   \n",
       "11465            5             14           18    N                 N   \n",
       "\n",
       "                    review_headline  \\\n",
       "11469     Some pluses, some minuses   \n",
       "11468  Excellent for fine/limp hair   \n",
       "11467             The best dryer!!!   \n",
       "11466     Disappointment with dryer   \n",
       "11465                   great hair!   \n",
       "\n",
       "                                             review_body review_date  \n",
       "11469  This is my only experience with an ionic hair ...  2002-03-02  \n",
       "11468  This hairdryer far exceeded my expection for<B...  2002-04-20  \n",
       "11467  I love this dryer not only is it QUIET, it rea...  2002-07-13  \n",
       "11466  I purchased it because it was supposed to be q...  2002-08-13  \n",
       "11465  I just purchased this dryer, and I really like...  2002-08-21  "
      ]
     },
     "execution_count": 52,
     "metadata": {},
     "output_type": "execute_result"
    }
   ],
   "source": [
    "df.head()"
   ]
  },
  {
   "cell_type": "code",
   "execution_count": 56,
   "metadata": {},
   "outputs": [
    {
     "data": {
      "text/plain": [
       "0        2015\n",
       "1        2015\n",
       "2        2015\n",
       "3        2015\n",
       "4        2015\n",
       "         ... \n",
       "11465    2002\n",
       "11466    2002\n",
       "11467    2002\n",
       "11468    2002\n",
       "11469    2002\n",
       "Name: review_date, Length: 11470, dtype: object"
      ]
     },
     "execution_count": 56,
     "metadata": {},
     "output_type": "execute_result"
    }
   ],
   "source": [
    "df = pd.read_csv(\"D:/anydata/data/hair_dryer.tsv\", sep='\\t') # 读取tsv格式数据\n",
    "pd.to_datetime(df.review_date).dt.strftime(\"%m/%Y\")"
   ]
  },
  {
   "cell_type": "code",
   "execution_count": 6,
   "metadata": {},
   "outputs": [],
   "source": [
    "text = 'Natural language processing (NLP) Is A SuBfield Of Computer scIence, inFormation eNgineering, and artificial intelligence concerned with the interactions between computers and human (natural) languages, in particular how to program computers to process and analyze large amounts of natural language data!?!!....'"
   ]
  },
  {
   "cell_type": "code",
   "execution_count": 7,
   "metadata": {
    "collapsed": true
   },
   "outputs": [
    {
     "data": {
      "text/plain": [
       "'natural language processing (nlp) is a subfield of computer science, information engineering, and artificial intelligence concerned with the interactions between computers and human (natural) languages, in particular how to program computers to process and analyze large amounts of natural language data!?!!....'"
      ]
     },
     "execution_count": 7,
     "metadata": {},
     "output_type": "execute_result"
    }
   ],
   "source": [
    "# 大小写转换\n",
    "lower = text.lower()\n",
    "lower"
   ]
  },
  {
   "cell_type": "code",
   "execution_count": 8,
   "metadata": {},
   "outputs": [
    {
     "data": {
      "text/plain": [
       "'natural language processing nlp is a subfield of computer science information engineering and artificial intelligence concerned with the interactions between computers and human natural languages in particular how to program computers to process and analyze large amounts of natural language data'"
      ]
     },
     "execution_count": 8,
     "metadata": {},
     "output_type": "execute_result"
    }
   ],
   "source": [
    "# 标点符号的处理\n",
    "#string.punctuation中包含英文的标点，我们将其放在待去除变量remove中\n",
    "#函数需要三个参数，前两个表示字符的映射，我们是不需要的。\n",
    "remove = str.maketrans('','',string.punctuation) \n",
    "without_punctuation = lower.translate(remove)\n",
    "without_punctuation"
   ]
  },
  {
   "cell_type": "code",
   "execution_count": 9,
   "metadata": {},
   "outputs": [],
   "source": [
    "tokens = without_punctuation.split()"
   ]
  },
  {
   "cell_type": "code",
   "execution_count": 17,
   "metadata": {},
   "outputs": [],
   "source": [
    "stopwords_path = 'D:/anydata/data/stopword.txt'\n",
    "stopwords_list = [line.rstrip() for line in open(stopwords_path)]"
   ]
  },
  {
   "cell_type": "code",
   "execution_count": 18,
   "metadata": {},
   "outputs": [
    {
     "data": {
      "text/plain": [
       "['natural',\n",
       " 'language',\n",
       " 'processing',\n",
       " 'nlp',\n",
       " 'subfield',\n",
       " 'computer',\n",
       " 'science',\n",
       " 'information',\n",
       " 'engineering',\n",
       " 'artificial',\n",
       " 'intelligence',\n",
       " 'concerned',\n",
       " 'interactions',\n",
       " 'computers',\n",
       " 'human',\n",
       " 'natural',\n",
       " 'languages',\n",
       " 'particular',\n",
       " 'program',\n",
       " 'computers',\n",
       " 'process',\n",
       " 'analyze',\n",
       " 'amounts',\n",
       " 'natural',\n",
       " 'language',\n",
       " 'data']"
      ]
     },
     "execution_count": 18,
     "metadata": {},
     "output_type": "execute_result"
    }
   ],
   "source": [
    "# 去除停用词\n",
    "without_stopwords = [w for w in tokens if not w in stopwords_list]\n",
    "without_stopwords"
   ]
  },
  {
   "cell_type": "code",
   "execution_count": 19,
   "metadata": {},
   "outputs": [
    {
     "name": "stdout",
     "output_type": "stream",
     "text": [
      "['natur', 'languag', 'process', 'nlp', 'subfield', 'comput', 'scienc', 'inform', 'engin', 'artifici', 'intellig', 'concern', 'interact', 'comput', 'human', 'natur', 'languag', 'particular', 'program', 'comput', 'process', 'analyz', 'amount', 'natur', 'languag', 'data']\n"
     ]
    }
   ],
   "source": [
    "import nltk.stem\n",
    "s = nltk.stem.SnowballStemmer('english')  #参数是选择的语言\n",
    "cleaned_text = [s.stem(ws) for ws in without_stopwords]\n",
    "print(cleaned_text)"
   ]
  },
  {
   "cell_type": "code",
   "execution_count": 20,
   "metadata": {},
   "outputs": [
    {
     "data": {
      "text/plain": [
       "['natur',\n",
       " 'languag',\n",
       " 'process',\n",
       " 'nlp',\n",
       " 'subfield',\n",
       " 'comput',\n",
       " 'scienc',\n",
       " 'inform',\n",
       " 'engin',\n",
       " 'artifici',\n",
       " 'intellig',\n",
       " 'concern',\n",
       " 'interact',\n",
       " 'comput',\n",
       " 'human',\n",
       " 'natur',\n",
       " 'languag',\n",
       " 'particular',\n",
       " 'program',\n",
       " 'comput',\n",
       " 'process',\n",
       " 'analyz',\n",
       " 'amount',\n",
       " 'natur',\n",
       " 'languag',\n",
       " 'data']"
      ]
     },
     "execution_count": 20,
     "metadata": {},
     "output_type": "execute_result"
    }
   ],
   "source": [
    "from nltk.stem import WordNetLemmatizer\n",
    "wnl = WordNetLemmatizer()\n",
    "[wnl.lemmatize(ws) for ws in cleaned_text]"
   ]
  },
  {
   "cell_type": "markdown",
   "metadata": {},
   "source": [
    "# 词云"
   ]
  },
  {
   "cell_type": "code",
   "execution_count": null,
   "metadata": {},
   "outputs": [],
   "source": [
    "#-*-coding:utf-8-*-\n",
    "import sys\n",
    "import os\n",
    "from pprint import pprint\n",
    "import codecs\n",
    "import json\n",
    "from collections import Counter, defaultdict\n",
    "from wordcloud import WordCloud\n",
    "import matplotlib.pyplot as plt\n",
    "\n",
    "path = sys.path[0] + os.sep\n",
    "\n",
    "def wc_from_text(str, fn):\n",
    "\t'''根据字符串进行统计，并生成词云图'''\n",
    "    wc = WordCloud(\n",
    "        background_color=\"white\",  # 设置背景为白色，默认为黑色\n",
    "        width = 1500,  # 设置图片的宽度\n",
    "        height= 960,  # 设置图片的高度\n",
    "        margin= 10  # 设置图片的边缘\n",
    "    ).generate(s)\n",
    "    plt.imshow(wc)  # 绘制图片\n",
    "    plt.axis(\"off\")  # 消除坐标轴\n",
    "    plt.show()  # 展示图片\n",
    "    # wc.to_file(path + fn)  # 保存图片\n",
    "\n",
    "def wc_from_word_count(word_count, fp):\n",
    "\t'''根据词频字典生成词云图'''\n",
    "    wc = WordCloud(\n",
    "        max_words=500,  # 最多显示词数\n",
    "        # max_font_size=100,  # 字体最大值\n",
    "        background_color=\"white\",  # 设置背景为白色，默认为黑色\n",
    "        width = 1500,  # 设置图片的宽度\n",
    "        height= 960,  # 设置图片的高度\n",
    "        margin= 10  # 设置图片的边缘\n",
    "    )\n",
    "    wc.generate_from_frequencies(word_count)  # 从字典生成词云\n",
    "    plt.imshow(wc)  # 显示词云\n",
    "    plt.axis('off')  # 关闭坐标轴\n",
    "    plt.show()  # 显示图像\n",
    "    wc.to_file(fp)  # 保存图片\n",
    "\n",
    "def generate_dict_from_file(fp):\n",
    "    with codecs.open(fp, 'r', 'utf-8') as source_file:\n",
    "        for line in source_file:\n",
    "            dic = json.loads(line)\n",
    "            yield dic\n",
    "\n",
    "def main(data_fp, pic_fp):\n",
    "    word_count = defaultdict(lambda: 0)\n",
    "    for dic in generate_dict_from_file(data_fp):\n",
    "        words = dic['content'].split(' ')\n",
    "        for word in words:\n",
    "        \tword_count[word] += 1\n",
    "    with codecs.open(path + 'word_count.json', 'w', 'utf-8') as f:\n",
    "        json.dump(word_count, f, ensure_ascii=False)\n",
    "    wc_from_word_count(word_count, pic_fp)\n",
    "\n",
    "if __name__ == '__main__':\n",
    "    s = 'access restored ban remains blocked government order accessible aid proxy provider telecom restored access celebrating government revoked censorship order newsroom waiting appeal court lawsuit government allowed constitution reporting stringer spread dedication journalism critical reporting brought outlet respect recognition landed blacklist authoritarian regime dominate permanently blocked severe intolerance critical journalism authority deny domestic access occasional basis regional outlet sensitive issue incident hard technical glitch deliberately blocked access depending covered government corruption human abuse social discontent policy freedom protested blocked violent conflict ethnic resident authority imposed permanent ban parliament resolution lawmaker addressed conflict recommended action government resolution reason obtaining court order law shutting outlet introduce measure domain space resolution authority'\n",
    "    # wc_from_text(s, 'wc1.jpg')\n",
    "    # word_count = Counter(s.split(' '))\n",
    "    # wc_from_word_count(word_count, 'wc2.jpg')\n",
    "    data_fp = path + 'result.json'\n",
    "    pic_fp = path + 'word_cloud_uz.jpg'\n",
    "    main(data_fp, pic_fp)\n"
   ]
  }
 ],
 "metadata": {
  "kernelspec": {
   "display_name": "Python 3",
   "language": "python",
   "name": "python3"
  },
  "language_info": {
   "codemirror_mode": {
    "name": "ipython",
    "version": 3
   },
   "file_extension": ".py",
   "mimetype": "text/x-python",
   "name": "python",
   "nbconvert_exporter": "python",
   "pygments_lexer": "ipython3",
   "version": "3.7.4"
  }
 },
 "nbformat": 4,
 "nbformat_minor": 2
}
